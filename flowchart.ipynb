{
 "cells": [
  {
   "cell_type": "code",
   "execution_count": null,
   "id": "e1a53ed1-6011-4c40-8d68-17f3a642a36c",
   "metadata": {},
   "outputs": [],
   "source": [
    "import mermaid as md\n",
    "from mermaid.graph import Graph\n",
    "\n",
    "suck_diagram = \"\"\"\n",
    "flowchart TD\n",
    "    A[This thing sucks.] --> B{When did it start to suck?}\n",
    "    B --> |Before 1980| C[Racism]\n",
    "    B --> |1980-2010| D[Ronald Reagan] --> C\n",
    "    B --> |After 2010| E[Private Equity] --> D\n",
    "\"\"\"\n",
    "\n",
    "graph: Graph = Graph(\"Why does it suck?\", suck_diagram)\n",
    "\n",
    "output: md.Mermaid = md.Mermaid(graph)\n",
    "output"
   ]
  }
 ],
 "metadata": {
  "kernelspec": {
   "display_name": "Python 3 (ipykernel)",
   "language": "python",
   "name": "python3"
  },
  "language_info": {
   "codemirror_mode": {
    "name": "ipython",
    "version": 3
   },
   "file_extension": ".py",
   "mimetype": "text/x-python",
   "name": "python",
   "nbconvert_exporter": "python",
   "pygments_lexer": "ipython3",
   "version": "3.12.4"
  }
 },
 "nbformat": 4,
 "nbformat_minor": 5
}
